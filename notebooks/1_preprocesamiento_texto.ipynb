{
  "cells": [
    {
      "cell_type": "code",
      "execution_count": null,
      "id": "4756716d-4988-4b4b-ac45-c5d479b5b25d",
      "metadata": {
        "id": "4756716d-4988-4b4b-ac45-c5d479b5b25d"
      },
      "outputs": [],
      "source": [
        "from transformers import pipeline\n",
        "\n",
        "# Crear un pipeline de análisis de sentimiento\n",
        "sentiment = pipeline(\"sentiment-analysis\", model=\"nlptown/bert-base-multilingual-uncased-sentiment\")\n",
        "\n",
        "result = sentiment(\"Hugging Face es increíble para aprender NLP.\")\n",
        "print(result)"
      ]
    },
    {
      "cell_type": "code",
      "metadata": {
        "id": "c62bc54a"
      },
      "source": [
        "# You might need to install an additional library for Spanish models\n",
        "# !pip install transformers[sentencepiece]"
      ],
      "id": "c62bc54a",
      "execution_count": null,
      "outputs": []
    },
    {
      "cell_type": "code",
      "metadata": {
        "id": "17779ff9"
      },
      "source": [
        "from transformers import pipeline\n",
        "\n",
        "# Load a sentiment analysis model for Spanish\n",
        "# Using 'nlptown/bert-base-multilingual-uncased-sentiment' which supports multiple languages including Spanish\n",
        "sentiment_spanish = pipeline(\"sentiment-analysis\", model=\"nlptown/bert-base-multilingual-uncased-sentiment\")\n",
        "\n",
        "# Example text in Spanish\n",
        "text_spanish = \"Me encanta usar Hugging Face para aprender sobre PNL.\"\n",
        "\n",
        "# Perform sentiment analysis\n",
        "result_spanish = sentiment_spanish(text_spanish)\n",
        "print(result_spanish)"
      ],
      "id": "17779ff9",
      "execution_count": null,
      "outputs": []
    }
  ],
  "metadata": {
    "kernelspec": {
      "display_name": "Python [conda env:base] *",
      "language": "python",
      "name": "conda-base-py"
    },
    "language_info": {
      "codemirror_mode": {
        "name": "ipython",
        "version": 3
      },
      "file_extension": ".py",
      "mimetype": "text/x-python",
      "name": "python",
      "nbconvert_exporter": "python",
      "pygments_lexer": "ipython3",
      "version": "3.12.3"
    },
    "colab": {
      "provenance": []
    }
  },
  "nbformat": 4,
  "nbformat_minor": 5
}