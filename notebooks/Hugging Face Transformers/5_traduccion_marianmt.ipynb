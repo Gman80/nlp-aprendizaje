{
 "cells": [
  {
   "cell_type": "code",
   "execution_count": null,
   "id": "54cc8b02-0012-4b93-ad72-d3d5551bd3c0",
   "metadata": {},
   "outputs": [],
   "source": [
    "!pip install transformers datasets\n",
    "\n",
    "from transformers import pipeline\n",
    "\n",
    "traductor_es_en = pipeline(\"translation_es_to_en\", model=\"Helsinki-NLP/opus-mt-es-en\")\n",
    "traductor_en_es = pipeline(\"translation_en_to_es\", model=\"Helsinki-NLP/opus-mt-en-es\")\n",
    "\n",
    "print(traductor_es_en(\"Hola, ¿cómo estás hoy?\"))\n",
    "print(traductor_en_es(\"Hello, how are you today?\"))"
   ]
  }
 ],
 "metadata": {
  "kernelspec": {
   "display_name": "Python [conda env:base] *",
   "language": "python",
   "name": "conda-base-py"
  },
  "language_info": {
   "codemirror_mode": {
    "name": "ipython",
    "version": 3
   },
   "file_extension": ".py",
   "mimetype": "text/x-python",
   "name": "python",
   "nbconvert_exporter": "python",
   "pygments_lexer": "ipython3",
   "version": "3.12.3"
  }
 },
 "nbformat": 4,
 "nbformat_minor": 5
}
