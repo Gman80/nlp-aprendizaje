{
 "cells": [
  {
   "cell_type": "code",
   "execution_count": null,
   "id": "561afaa1-80ad-4284-a756-1519cb63290d",
   "metadata": {},
   "outputs": [],
   "source": [
    "!pip install transformers datasets\n",
    "from transformers import AutoTokenizer\n",
    "\n",
    "tokenizer = AutoTokenizer.from_pretrained(\"dccuchile/bert-base-spanish-wwm-cased\")\n",
    "\n",
    "texto = \"El aprendizaje profundo está revolucionando el NLP.\"\n",
    "tokens = tokenizer(texto)\n",
    "print(tokens)\n",
    "\n",
    "# Decodificar para ver el proceso inverso\n",
    "print(tokenizer.decode(tokens[\"input_ids\"]))"
   ]
  }
 ],
 "metadata": {
  "kernelspec": {
   "display_name": "Python [conda env:base] *",
   "language": "python",
   "name": "conda-base-py"
  },
  "language_info": {
   "codemirror_mode": {
    "name": "ipython",
    "version": 3
   },
   "file_extension": ".py",
   "mimetype": "text/x-python",
   "name": "python",
   "nbconvert_exporter": "python",
   "pygments_lexer": "ipython3",
   "version": "3.12.3"
  }
 },
 "nbformat": 4,
 "nbformat_minor": 5
}
