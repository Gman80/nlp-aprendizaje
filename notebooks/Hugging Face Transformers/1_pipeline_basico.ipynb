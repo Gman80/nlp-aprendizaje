{
  "cells": [
    {
      "cell_type": "code",
      "source": [
        "!pip install --upgrade transformers accelerate torch"
      ],
      "metadata": {
        "id": "Ky0Vp6a8TMqW"
      },
      "id": "Ky0Vp6a8TMqW",
      "execution_count": null,
      "outputs": []
    },
    {
      "cell_type": "code",
      "source": [
        "!pip install torch==2.6.0 torchvision==0.21.0 torchaudio==2.6.0 fastai==2.7.19"
      ],
      "metadata": {
        "id": "Jkz_9unpkKZu"
      },
      "id": "Jkz_9unpkKZu",
      "execution_count": null,
      "outputs": []
    },
    {
      "cell_type": "code",
      "source": [
        "# Importamos las librerías necesarias\n",
        "from transformers import pipeline\n",
        "import torch\n",
        "\n",
        "# Definimos el dispositivo donde correrán los modelos:\n",
        "# -1 para CPU, o 0 para GPU si está disponible.\n",
        "device = 0 if torch.cuda.is_available() else -1\n",
        "print(f\"Usando dispositivo: {'GPU' if device == 0 else 'CPU'}\")\n",
        "\n",
        "# 1. Clasificación de sentimientos en español usando el modelo BETO\n",
        "# Este modelo está entrenado en español para identificar si un texto es positivo o negativo.\n",
        "clasificador = pipeline(\n",
        "    \"sentiment-analysis\",\n",
        "    model=\"finiteautomata/beto-sentiment-analysis\",  # modelo preentrenado en español\n",
        "    device=device\n",
        ")\n",
        "\n",
        "# Probamos el clasificador con dos frases\n",
        "print(clasificador(\"Me encanta este libro, es maravilloso\"))\n",
        "print(clasificador(\"Este servicio fue terrible y lento\"))\n",
        "\n",
        "# 2. Resumen automático en español con un modelo Encoder-Decoder\n",
        "# Este modelo toma un texto largo y genera una versión resumida.\n",
        "resumidor = pipeline(\n",
        "    \"summarization\",\n",
        "    model=\"mrm8488/bert2bert_shared-spanish-finetuned-summarization\",\n",
        "    device=device\n",
        ")\n",
        "\n",
        "texto = (\n",
        "    \"El procesamiento de lenguaje natural (NLP) es una rama de la inteligencia artificial. \"\n",
        "    \"Permite a las máquinas entender y generar texto humano de manera útil.\"\n",
        ")\n",
        "\n",
        "# Generamos el resumen con ciertas configuraciones para controlar su longitud\n",
        "resultado_resumen = resumidor(texto, max_length=30, min_length=5, do_sample=False)\n",
        "print(\"Resumen:\", resultado_resumen[0]['summary_text'])\n",
        "\n",
        "# 3. Pregunta-Respuesta en español usando un modelo entrenado para SQuAD en español\n",
        "qa = pipeline(\n",
        "    \"question-answering\",\n",
        "    model=\"mrm8488/spanbert-finetuned-squades-spanish\",\n",
        "    device=device\n",
        ")\n",
        "\n",
        "contexto = \"Madrid es la capital de España y sede del gobierno nacional.\"\n",
        "pregunta = \"¿Cuál es la capital de España?\"\n",
        "\n",
        "respuesta = qa(question=pregunta, context=contexto)\n",
        "print(\"Respuesta:\", respuesta['answer'])"
      ],
      "metadata": {
        "id": "4JvqsuZeThUc"
      },
      "id": "4JvqsuZeThUc",
      "execution_count": null,
      "outputs": []
    },
    {
      "cell_type": "code",
      "source": [
        "!pip install torch==2.8.0 torchvision torchaudio fastai --upgrade"
      ],
      "metadata": {
        "id": "hsuTWOwam6Cf"
      },
      "id": "hsuTWOwam6Cf",
      "execution_count": null,
      "outputs": []
    }
  ],
  "metadata": {
    "kernelspec": {
      "display_name": "Python [conda env:base] *",
      "language": "python",
      "name": "conda-base-py"
    },
    "language_info": {
      "codemirror_mode": {
        "name": "ipython",
        "version": 3
      },
      "file_extension": ".py",
      "mimetype": "text/x-python",
      "name": "python",
      "nbconvert_exporter": "python",
      "pygments_lexer": "ipython3",
      "version": "3.12.3"
    },
    "colab": {
      "provenance": []
    }
  },
  "nbformat": 4,
  "nbformat_minor": 5
}