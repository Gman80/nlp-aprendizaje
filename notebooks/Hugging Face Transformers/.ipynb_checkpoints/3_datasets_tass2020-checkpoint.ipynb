{
 "cells": [
  {
   "cell_type": "code",
   "execution_count": null,
   "id": "61acfb66-94ff-4c18-8e99-fa0b99403e2f",
   "metadata": {},
   "outputs": [],
   "source": [
    "!pip install datasets transformers\n",
    "\n",
    "from datasets import load_dataset\n",
    "\n",
    "dataset = load_dataset(\"PlanTL-GOB-ES/tass2020\", split=\"train\")\n",
    "print(dataset)\n",
    "print(dataset[0])\n",
    "\n",
    "# Visualizar primeras frases y etiquetas\n",
    "for i in range(3):\n",
    "    print(dataset[i][\"tweet\"], \"=>\", dataset[i][\"label\"])"
   ]
  }
 ],
 "metadata": {
  "kernelspec": {
   "display_name": "Python [conda env:base] *",
   "language": "python",
   "name": "conda-base-py"
  },
  "language_info": {
   "codemirror_mode": {
    "name": "ipython",
    "version": 3
   },
   "file_extension": ".py",
   "mimetype": "text/x-python",
   "name": "python",
   "nbconvert_exporter": "python",
   "pygments_lexer": "ipython3",
   "version": "3.12.3"
  }
 },
 "nbformat": 4,
 "nbformat_minor": 5
}
