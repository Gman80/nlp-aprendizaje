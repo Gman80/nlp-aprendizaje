{
 "cells": [
  {
   "cell_type": "code",
   "execution_count": null,
   "id": "a45446ca-bf19-4ae8-8f00-4ab7f6498dfb",
   "metadata": {},
   "outputs": [],
   "source": [
    "!pip install transformers datasets\n",
    "\n",
    "from transformers import pipeline\n",
    "\n",
    "# Clasificación de sentimientos en español con BETO\n",
    "clasificador = pipeline(\"sentiment-analysis\", model=\"finiteautomata/beto-sentiment-analysis\")\n",
    "print(clasificador(\"Me encanta este libro, es maravilloso\"))\n",
    "print(clasificador(\"Este servicio fue terrible y lento\"))\n",
    "\n",
    "# Resumen automático en español\n",
    "resumidor = pipeline(\"summarization\", model=\"mrm8488/bert2bert_shared-spanish-finetuned-summarization\")\n",
    "texto = \"\"\"El procesamiento de lenguaje natural (NLP) es una rama de la inteligencia artificial.\n",
    "Permite a las máquinas entender y generar texto humano de manera útil.\"\"\"\n",
    "print(resumidor(texto, max_length=30, min_length=5, do_sample=False))\n",
    "\n",
    "# Pregunta-Respuesta en español\n",
    "qa = pipeline(\"question-answering\", model=\"mrm8488/spanbert-finetuned-squades-spanish\")\n",
    "contexto = \"Madrid es la capital de España y sede del gobierno nacional.\"\n",
    "pregunta = \"¿Cuál es la capital de España?\"\n",
    "print(qa(question=pregunta, context=contexto))"
   ]
  }
 ],
 "metadata": {
  "kernelspec": {
   "display_name": "Python [conda env:base] *",
   "language": "python",
   "name": "conda-base-py"
  },
  "language_info": {
   "codemirror_mode": {
    "name": "ipython",
    "version": 3
   },
   "file_extension": ".py",
   "mimetype": "text/x-python",
   "name": "python",
   "nbconvert_exporter": "python",
   "pygments_lexer": "ipython3",
   "version": "3.12.3"
  }
 },
 "nbformat": 4,
 "nbformat_minor": 5
}
