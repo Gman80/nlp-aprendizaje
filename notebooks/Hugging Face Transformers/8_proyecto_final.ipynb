{
 "cells": [
  {
   "cell_type": "code",
   "execution_count": null,
   "id": "75a3bc24-642b-4349-9d43-fd18c1db8abc",
   "metadata": {},
   "outputs": [],
   "source": [
    "!pip install transformers datasets git+https://github.com/openai/whisper.git pillow\n",
    "\n",
    "from transformers import pipeline\n",
    "import whisper\n",
    "\n",
    "# 1 – Transcribir audio\n",
    "modelo_audio = whisper.load_model(\"small\")\n",
    "result = modelo_audio.transcribe(\"audio_espanol.mp3\")\n",
    "texto = result[\"text\"]\n",
    "\n",
    "# 2 – Resumir\n",
    "resumidor = pipeline(\"summarization\", model=\"mrm8488/bert2bert_shared-spanish-finetuned-summarization\")\n",
    "resumen = resumidor(texto, max_length=40, min_length=5, do_sample=False)[0]['summary_text']\n",
    "\n",
    "# 3 – Traducir al inglés\n",
    "traductor = pipeline(\"translation_es_to_en\", model=\"Helsinki-NLP/opus-mt-es-en\")\n",
    "traduccion = traductor(resumen)[0][\"translation_text\"]\n",
    "\n",
    "print(\"Texto original transcrito:\", texto)\n",
    "print(\"Resumen:\", resumen)\n",
    "print(\"Traducción al inglés:\", traduccion)"
   ]
  }
 ],
 "metadata": {
  "kernelspec": {
   "display_name": "Python [conda env:base] *",
   "language": "python",
   "name": "conda-base-py"
  },
  "language_info": {
   "codemirror_mode": {
    "name": "ipython",
    "version": 3
   },
   "file_extension": ".py",
   "mimetype": "text/x-python",
   "name": "python",
   "nbconvert_exporter": "python",
   "pygments_lexer": "ipython3",
   "version": "3.12.3"
  }
 },
 "nbformat": 4,
 "nbformat_minor": 5
}
