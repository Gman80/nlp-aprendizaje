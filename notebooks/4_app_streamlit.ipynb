{
 "cells": [
  {
   "cell_type": "code",
   "execution_count": null,
   "id": "d9187ced-97d5-4ed9-ac14-88308d6b82d6",
   "metadata": {},
   "outputs": [],
   "source": [
    "# =========================================\n",
    "# 4 - Prototipo de app en Streamlit\n",
    "# =========================================\n",
    "!pip install streamlit transformers\n",
    "\n",
    "# Guardar archivo de la app\n",
    "with open(\"app.py\", \"w\") as f:\n",
    "    f.write('''\n",
    "import streamlit as st\n",
    "from transformers import pipeline\n",
    "\n",
    "st.title(\"Clasificador de Sentimientos en Español\")\n",
    "texto = st.text_area(\"Introduce un texto:\")\n",
    "\n",
    "if st.button(\"Analizar\"):\n",
    "    clasificador = pipeline(\"sentiment-analysis\", model=\"finiteautomata/beto-sentiment-analysis\")\n",
    "    resultado = clasificador(texto)\n",
    "    st.write(resultado)\n",
    "''')\n",
    "\n",
    "print(\"Archivo app.py creado. Ejecuta:\\n\\nstreamlit run app.py\")"
   ]
  }
 ],
 "metadata": {
  "kernelspec": {
   "display_name": "Python [conda env:base] *",
   "language": "python",
   "name": "conda-base-py"
  },
  "language_info": {
   "codemirror_mode": {
    "name": "ipython",
    "version": 3
   },
   "file_extension": ".py",
   "mimetype": "text/x-python",
   "name": "python",
   "nbconvert_exporter": "python",
   "pygments_lexer": "ipython3",
   "version": "3.12.3"
  }
 },
 "nbformat": 4,
 "nbformat_minor": 5
}
