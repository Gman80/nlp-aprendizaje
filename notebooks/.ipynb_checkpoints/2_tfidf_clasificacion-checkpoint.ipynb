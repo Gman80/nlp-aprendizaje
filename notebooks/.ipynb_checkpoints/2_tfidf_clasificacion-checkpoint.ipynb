{
 "cells": [
  {
   "cell_type": "code",
   "execution_count": null,
   "id": "84914b1a-b9ba-477d-9270-d5bc2e2f840b",
   "metadata": {},
   "outputs": [],
   "source": [
    "# =========================================\n",
    "# 2 - TF-IDF + Clasificación de sentimientos\n",
    "# =========================================\n",
    "!pip install scikit-learn pandas\n",
    "\n",
    "import pandas as pd\n",
    "from sklearn.feature_extraction.text import TfidfVectorizer\n",
    "from sklearn.model_selection import train_test_split\n",
    "from sklearn.linear_model import LogisticRegression\n",
    "from sklearn.metrics import classification_report\n",
    "\n",
    "# Dataset de ejemplo\n",
    "data = {\n",
    "    \"texto\": [\n",
    "        \"Me encanta este producto, es excelente\",\n",
    "        \"El servicio fue terrible, muy decepcionante\",\n",
    "        \"Estuvo bien, nada especial\",\n",
    "        \"Muy bueno, volveré a comprar\",\n",
    "        \"Una pérdida de dinero, no lo recomiendo\"\n",
    "    ],\n",
    "    \"etiqueta\": [1, 0, 1, 1, 0]\n",
    "}\n",
    "\n",
    "df = pd.DataFrame(data)\n",
    "\n",
    "# Vectorización TF-IDF\n",
    "vectorizer = TfidfVectorizer()\n",
    "X = vectorizer.fit_transform(df[\"texto\"])\n",
    "y = df[\"etiqueta\"]\n",
    "\n",
    "# Entrenar modelo\n",
    "X_train, X_test, y_train, y_test = train_test_split(X, y, test_size=0.2, random_state=42)\n",
    "model = LogisticRegression()\n",
    "model.fit(X_train, y_train)\n",
    "\n",
    "# Evaluación\n",
    "y_pred = model.predict(X_test)\n",
    "print(classification_report(y_test, y_pred))"
   ]
  }
 ],
 "metadata": {
  "kernelspec": {
   "display_name": "Python [conda env:base] *",
   "language": "python",
   "name": "conda-base-py"
  },
  "language_info": {
   "codemirror_mode": {
    "name": "ipython",
    "version": 3
   },
   "file_extension": ".py",
   "mimetype": "text/x-python",
   "name": "python",
   "nbconvert_exporter": "python",
   "pygments_lexer": "ipython3",
   "version": "3.12.3"
  }
 },
 "nbformat": 4,
 "nbformat_minor": 5
}
