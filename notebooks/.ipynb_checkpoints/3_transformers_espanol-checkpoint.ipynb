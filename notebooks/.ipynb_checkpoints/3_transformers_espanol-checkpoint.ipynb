{
 "cells": [
  {
   "cell_type": "code",
   "execution_count": null,
   "id": "49cb3023-2161-4ebc-a0c5-54caf07c7ac2",
   "metadata": {},
   "outputs": [],
   "source": [
    "# =========================================\n",
    "# 3 - Uso de BERT en español (BETO)\n",
    "# =========================================\n",
    "!pip install transformers datasets\n",
    "\n",
    "from transformers import pipeline\n",
    "\n",
    "# Modelo BETO para clasificación de sentimientos\n",
    "clasificador = pipeline(\"sentiment-analysis\", model=\"finiteautomata/beto-sentiment-analysis\")\n",
    "\n",
    "texto = \"El producto llegó rápido y en buen estado\"\n",
    "resultado = clasificador(texto)\n",
    "\n",
    "print(\"Texto:\", texto)\n",
    "print(\"Resultado:\", resultado)"
   ]
  }
 ],
 "metadata": {
  "kernelspec": {
   "display_name": "Python [conda env:base] *",
   "language": "python",
   "name": "conda-base-py"
  },
  "language_info": {
   "codemirror_mode": {
    "name": "ipython",
    "version": 3
   },
   "file_extension": ".py",
   "mimetype": "text/x-python",
   "name": "python",
   "nbconvert_exporter": "python",
   "pygments_lexer": "ipython3",
   "version": "3.12.3"
  }
 },
 "nbformat": 4,
 "nbformat_minor": 5
}
