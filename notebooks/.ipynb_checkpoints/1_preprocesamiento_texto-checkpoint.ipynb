{
 "cells": [
  {
   "cell_type": "code",
   "execution_count": null,
   "id": "4756716d-4988-4b4b-ac45-c5d479b5b25d",
   "metadata": {},
   "outputs": [],
   "source": [
    "# =========================================\n",
    "# 1 - Preprocesamiento de texto en español\n",
    "# =========================================\n",
    "\n",
    "!pip install spacy nltk\n",
    "!python -m spacy download es_core_news_sm\n",
    "\n",
    "import nltk\n",
    "nltk.download('stopwords')\n",
    "\n",
    "import spacy\n",
    "from nltk.corpus import stopwords\n",
    "\n",
    "# Cargar modelo spaCy en español\n",
    "nlp = spacy.load(\"es_core_news_sm\")\n",
    "\n",
    "texto_ejemplo = \"\"\"\n",
    "El procesamiento de lenguaje natural (NLP) es una rama de la inteligencia artificial.\n",
    "Permite que las computadoras trabajen con texto y lenguaje humano.\n",
    "\"\"\"\n",
    "\n",
    "# Procesar texto\n",
    "doc = nlp(texto_ejemplo)\n",
    "\n",
    "print(\"Tokens:\")\n",
    "for token in doc:\n",
    "    print(token.text, token.lemma_, token.pos_)\n",
    "\n",
    "# Eliminar stopwords y puntuación\n",
    "stop_es = set(stopwords.words(\"spanish\"))\n",
    "tokens_limpios = [t.lemma_.lower() for t in doc if t.text.isalpha() and t.lemma_.lower() not in stop_es]\n",
    "\n",
    "print(\"\\nTokens limpios:\", tokens_limpios)"
   ]
  }
 ],
 "metadata": {
  "kernelspec": {
   "display_name": "Python [conda env:base] *",
   "language": "python",
   "name": "conda-base-py"
  },
  "language_info": {
   "codemirror_mode": {
    "name": "ipython",
    "version": 3
   },
   "file_extension": ".py",
   "mimetype": "text/x-python",
   "name": "python",
   "nbconvert_exporter": "python",
   "pygments_lexer": "ipython3",
   "version": "3.12.3"
  }
 },
 "nbformat": 4,
 "nbformat_minor": 5
}
